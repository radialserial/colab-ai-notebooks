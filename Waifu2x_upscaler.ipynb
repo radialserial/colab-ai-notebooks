{
  "cells": [
    {
      "cell_type": "markdown",
      "source": [
        "# Image upscaler\n",
        "\n",
        "- Uses [Waifu2x](https://github.com/nagadomi/nunif) for AI image upscaling\n",
        "- Based on the colab demo available on the [Real-ESRGAN](https://github.com/xinntao/Real-ESRGAN) repository"
      ],
      "metadata": {
        "id": "KUvx6ZIViXNQ"
      }
    },
    {
      "cell_type": "markdown",
      "source": [
        "## Creating user input UI\n",
        "\n",
        "- URLs for images go in the textbox below\n",
        "- One URL per line"
      ],
      "metadata": {
        "id": "oLifV3zUis9i"
      }
    },
    {
      "cell_type": "code",
      "execution_count": null,
      "metadata": {
        "id": "u1tiyMZJW5td"
      },
      "outputs": [],
      "source": [
        "from enum import Enum\n",
        "\n",
        "import ipywidgets as wd\n",
        "\n",
        "class Methods(Enum):\n",
        "  NOISE_SCALE = \"noise_scale\"\n",
        "  NOISE = \"noise\"\n",
        "  SCALE = \"scale\"\n",
        "  SCALE2X = \"scale2x\"\n",
        "  SCALE4X = \"scale4x\"\n",
        "  NOISE_SCALE2X= \"noise_scale2x\"\n",
        "  NOISE_SCALE4X = \"noise_scale4x\"\n",
        "\n",
        "class Styles(Enum):\n",
        "  ART = \"art\"\n",
        "  ART_SCAN = \"art_scan\"\n",
        "  PHOTO = \"photo\"\n",
        "  SCAN = \"scan\"\n",
        "  NONE = \"None\"\n",
        "\n",
        "dd_method = wd.Dropdown(\n",
        "    description=\"Method: \",\n",
        "    options = [method.value for method in Methods],\n",
        "    index = 0,\n",
        ")\n",
        "dd_style = wd.Dropdown(\n",
        "    description=\"Style: \",\n",
        "    options = [style.value for style in Styles],\n",
        "    index = 0,\n",
        ")\n",
        "ft_denoise = wd.IntText(\n",
        "    value=0,\n",
        "    description='Denoise:',\n",
        ")\n",
        "ta_urls = wd.Textarea(\n",
        "    placeholder=\"Type URLs for images\",\n",
        "    description=\"URLs:\",\n",
        ")\n",
        "\n",
        "display(\n",
        "    ta_urls,\n",
        "    dd_method,\n",
        "    dd_style,\n",
        "    ft_denoise,\n",
        ")"
      ]
    },
    {
      "cell_type": "markdown",
      "source": [
        "## Retrieving images\n",
        "\n",
        "If no URLs are passed to the textbox on the UI above, an upload prompt is show to get images from the user's machine"
      ],
      "metadata": {
        "id": "MtaDYSDCizYp"
      }
    },
    {
      "cell_type": "code",
      "execution_count": null,
      "metadata": {
        "id": "COh1bJqyzMS0"
      },
      "outputs": [],
      "source": [
        "from google.colab import files\n",
        "import os\n",
        "import shutil\n",
        "\n",
        "links = ta_urls.value.splitlines()\n",
        "\n",
        "upload_folder = '/content/upload'\n",
        "result_folder = '/content/results'\n",
        "\n",
        "if os.path.isdir(upload_folder):\n",
        "    shutil.rmtree(upload_folder)\n",
        "if os.path.isdir(result_folder):\n",
        "    shutil.rmtree(result_folder)\n",
        "os.mkdir(upload_folder)\n",
        "os.mkdir(result_folder)\n",
        "\n",
        "if len(links) == 0:\n",
        "  # upload images\n",
        "  uploaded = files.upload()\n",
        "  for filename in uploaded.keys():\n",
        "    dst_path = os.path.join(upload_folder, filename)\n",
        "    print(f'move {filename} to {dst_path}')\n",
        "    shutil.move(filename, dst_path)\n",
        "    if filename.endswith(\".zip\"):\n",
        "      print(f\"Decompressing {filename}\")\n",
        "      os.system(f\"unzip -j {dst_path} -d {upload_folder}\")\n",
        "      os.remove(dst_path)\n",
        "else:\n",
        "  # Download image links if set\n",
        "  for link in links:\n",
        "   !wget --directory-prefix {upload_folder} {link}"
      ]
    },
    {
      "cell_type": "markdown",
      "source": [
        "## Setting up the environment"
      ],
      "metadata": {
        "id": "FQGykvxbi28G"
      }
    },
    {
      "cell_type": "code",
      "source": [
        "%%capture\n",
        "!sudo apt install git-core libmagickwand-dev libraqm-dev"
      ],
      "metadata": {
        "id": "T51GYLlCKgVW"
      },
      "execution_count": null,
      "outputs": []
    },
    {
      "cell_type": "code",
      "execution_count": null,
      "metadata": {
        "id": "GnpnrLfMV2jU"
      },
      "outputs": [],
      "source": [
        "%cd /content\n",
        "!rm -rf nunif\n",
        "!git clone https://github.com/nagadomi/nunif.git\n",
        "%cd nunif\n",
        "#!python3 -m venv .venv\n",
        "#!source .venv/bin/activate"
      ]
    },
    {
      "cell_type": "code",
      "source": [
        "%%capture\n",
        "!pip3 install -r requirements-torch.txt\n",
        "!pip3 install -r requirements.txt"
      ],
      "metadata": {
        "id": "NTCqhSggKzlO"
      },
      "execution_count": null,
      "outputs": []
    },
    {
      "cell_type": "code",
      "source": [
        "!python3 -m waifu2x.download_models\n",
        "!python3 -m waifu2x.web.webgen"
      ],
      "metadata": {
        "id": "iWbmbsBnK3Hf"
      },
      "execution_count": null,
      "outputs": []
    },
    {
      "cell_type": "markdown",
      "source": [
        "## Upscaling images"
      ],
      "metadata": {
        "id": "CKcpel6Ni9nl"
      }
    },
    {
      "cell_type": "code",
      "execution_count": null,
      "metadata": {
        "id": "H5r7WLWfgyF5"
      },
      "outputs": [],
      "source": [
        "from PIL import Image\n",
        "\n",
        "script = 'waifu2x.cli'\n",
        "image_count = len(os.listdir(upload_folder))\n",
        "\n",
        "args = [\n",
        "    f\"-m {dd_method.value}\",\n",
        "    f\"-n {ft_denoise.value}\",\n",
        "    (f\"--style {dd_style.value}\" if dd_style.value == Styles.NONE.value else \"\"),\n",
        "]\n",
        "args = \" \".join(args)\n",
        "\n",
        "!python -m {script} {args} -i {upload_folder} -o {result_folder}"
      ]
    },
    {
      "cell_type": "markdown",
      "source": [
        "## Displaying results"
      ],
      "metadata": {
        "id": "kWxlso1ujE9t"
      }
    },
    {
      "cell_type": "code",
      "execution_count": null,
      "metadata": {
        "id": "7IMD5vhOYp68"
      },
      "outputs": [],
      "source": [
        "# utils for visualization\n",
        "import cv2\n",
        "import matplotlib.pyplot as plt\n",
        "def display_img(img1, img2):\n",
        "  fig = plt.figure(figsize=(25, 10))\n",
        "  ax1 = fig.add_subplot(1, 2, 1)\n",
        "  plt.title('Input image', fontsize=16)\n",
        "  ax1.axis('off')\n",
        "  ax2 = fig.add_subplot(1, 2, 2)\n",
        "  plt.title('Waifu2x output', fontsize=16)\n",
        "  ax2.axis('off')\n",
        "  ax1.imshow(img1)\n",
        "  ax2.imshow(img2)\n",
        "def imread(img_path):\n",
        "  img = cv2.imread(img_path)\n",
        "  img = cv2.cvtColor(img, cv2.COLOR_BGR2RGB)\n",
        "  return img\n",
        "\n",
        "# display each image in the upload folder\n",
        "import os\n",
        "import glob\n",
        "\n",
        "input_list = sorted(glob.glob(os.path.join(upload_folder, '*')))\n",
        "output_list = sorted(glob.glob(os.path.join(result_folder, '*')))\n",
        "for input_path, output_path in zip(input_list, output_list):\n",
        "  img_input = imread(input_path)\n",
        "  img_output = imread(output_path)\n",
        "  display_img(img_input, img_output)"
      ]
    },
    {
      "cell_type": "markdown",
      "source": [
        "## Downloading results"
      ],
      "metadata": {
        "id": "G6cwzlTSjJcy"
      }
    },
    {
      "cell_type": "code",
      "execution_count": null,
      "metadata": {
        "id": "lHNHoP8PZJQ7"
      },
      "outputs": [],
      "source": [
        "# Download the results\n",
        "zip_filename = 'Waifu2x_result.zip'\n",
        "if os.path.exists(zip_filename):\n",
        "  os.remove(zip_filename)\n",
        "os.system(f\"zip -r -j {zip_filename} {result_folder}/*\")\n",
        "files.download(zip_filename)"
      ]
    }
  ],
  "metadata": {
    "accelerator": "GPU",
    "colab": {
      "provenance": []
    },
    "kernelspec": {
      "display_name": "Python 3",
      "name": "python3"
    },
    "language_info": {
      "name": "python"
    }
  },
  "nbformat": 4,
  "nbformat_minor": 0
}