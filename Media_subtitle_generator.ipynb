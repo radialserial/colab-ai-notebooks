{
  "nbformat": 4,
  "nbformat_minor": 0,
  "metadata": {
    "colab": {
      "provenance": [],
      "gpuType": "T4"
    },
    "kernelspec": {
      "name": "python3",
      "display_name": "Python 3"
    },
    "language_info": {
      "name": "python"
    },
    "accelerator": "GPU"
  },
  "cells": [
    {
      "cell_type": "markdown",
      "source": [
        "# Subtitle generator\n",
        "\n",
        "- Uses [OpenAI's Whisper](https://github.com/openai/whisper) for generating subtitles for media files using AI"
      ],
      "metadata": {
        "id": "Ln8fYvV9jpS_"
      }
    },
    {
      "cell_type": "markdown",
      "source": [
        "## Creating user input UI\n",
        "\n",
        "- URLs for videos go in the textbox below\n",
        "- One URL per line"
      ],
      "metadata": {
        "id": "6mP3IJaQj9bn"
      }
    },
    {
      "cell_type": "code",
      "source": [
        "import ipywidgets as wd\n",
        "from enum import Enum\n",
        "\n",
        "class Models(Enum):\n",
        "  TURBO = \"turbo\"\n",
        "  LARGE = \"large\"\n",
        "  MEDIUM = \"medium\"\n",
        "  SMALL = \"small\"\n",
        "  BASE = \"base\"\n",
        "  TINY = \"tiny\"\n",
        "\n",
        "class Tasks(Enum):\n",
        "  TRANSCRIBE = \"transcribe\"\n",
        "  TRANSLATE = \"translate\"\n",
        "\n",
        "dd_model = wd.Dropdown(\n",
        "    description=\"Model: \",\n",
        "    options = [model.value for model in Models],\n",
        "    index = 0,\n",
        "    )\n",
        "rb_task = wd.RadioButtons(\n",
        "    description=\"Task: \",\n",
        "    options = [task.value for task in Tasks],\n",
        "    index = 0,\n",
        "    disabled = True,\n",
        "    )\n",
        "cb_english = wd.Checkbox(\n",
        "    description=\"English-only model?\",\n",
        "    value = False,\n",
        "    disabled = True,\n",
        "    )\n",
        "ta_urls = wd.Textarea(\n",
        "    placeholder=\"Type URLs for videos\",\n",
        "    description=\"URLs\",\n",
        "  )\n",
        "cb_follow_playlist = wd.Checkbox(\n",
        "    description=\"Follow playlist?\",\n",
        "    value = False,\n",
        "    )\n",
        "\n",
        "def check_valid_model(selected_model):\n",
        "  model = selected_model.new\n",
        "  if  (model == Models.TURBO.value or model == Models.LARGE.value):\n",
        "    cb_english.disabled = True\n",
        "  else:\n",
        "    cb_english.disabled = False\n",
        "\n",
        "def check_valid_task(selected_model):\n",
        "  model = selected_model.new\n",
        "\n",
        "  # Turbo model can't translate, so force transcription\n",
        "  if  (model == Models.TURBO.value):\n",
        "    rb_task.disabled = True\n",
        "    rb_task.value = Tasks.TRANSCRIBE.value\n",
        "  else:\n",
        "    rb_task.disabled = False\n",
        "\n",
        "def validate_fields(selected_model):\n",
        "  check_valid_model(selected_model)\n",
        "  check_valid_task(selected_model)\n",
        "\n",
        "dd_model.observe(validate_fields, names=\"value\")\n",
        "\n",
        "audio_folder=\"audio\"\n",
        "subtitles_folder=\"subtitles\"\n",
        "zipfile=\"subtitles.zip\"\n",
        "\n",
        "display(\n",
        "  ta_urls,\n",
        "  dd_model,\n",
        "  rb_task,\n",
        "  cb_english,\n",
        "  cb_follow_playlist\n",
        "  )"
      ],
      "metadata": {
        "id": "lJO-8Yw4hwRq"
      },
      "execution_count": null,
      "outputs": []
    },
    {
      "cell_type": "markdown",
      "source": [
        "## Setting up the environment"
      ],
      "metadata": {
        "id": "0WJiiAB4kQVB"
      }
    },
    {
      "cell_type": "code",
      "source": [
        "%%capture\n",
        "!pip install -U openai\n",
        "!pip install -U cohere\n",
        "!pip install -U openai-whisper"
      ],
      "metadata": {
        "id": "Rqa7mXUc4ABW",
        "collapsed": true
      },
      "execution_count": null,
      "outputs": []
    },
    {
      "cell_type": "code",
      "source": [
        "!python3 -m pip install --force-reinstall https://github.com/yt-dlp/yt-dlp/archive/master.tar.gz\n",
        "!pip install ffmpeg-python\n",
        "!sudo apt install ffmpeg"
      ],
      "metadata": {
        "id": "5EwQ8-HwzdCL"
      },
      "execution_count": null,
      "outputs": []
    },
    {
      "cell_type": "code",
      "source": [
        "%cd /content\n",
        "!rm -rfd {audio_folder}\n",
        "!rm -rfd {subtitles_folder}\n",
        "!mkdir -pv {audio_folder}"
      ],
      "metadata": {
        "id": "urdSIuUtsQAj"
      },
      "execution_count": null,
      "outputs": []
    },
    {
      "cell_type": "markdown",
      "source": [
        "## Retrieving videos\n",
        "\n",
        "If no URLs are passed to the textbox on the UI above, an upload prompt is show to get videos from the user's machine"
      ],
      "metadata": {
        "id": "MG3SmpuzkE6I"
      }
    },
    {
      "cell_type": "code",
      "source": [
        "urls = ta_urls.value.splitlines()\n",
        "\n",
        "if len(urls) == 0:\n",
        "  import shutil\n",
        "  import os\n",
        "\n",
        "  # upload videos\n",
        "  uploaded = files.upload()\n",
        "  for filename in uploaded.keys():\n",
        "    dst_path = os.path.join(audio_folder, filename)\n",
        "    print(f'move {filename} to {dst_path}')\n",
        "    shutil.move(filename, dst_path)\n",
        "else:\n",
        "  for url in urls:\n",
        "    %cd {audio_folder}\n",
        "    !yt-dlp {(\"--yes-playlist\" if cb_follow_playlist.value == True else \"\")} -x {url}\n",
        "\n",
        "%cd /content\n",
        "\n",
        "# Sanity check\n",
        "if len(os.listdir(audio_folder)) == 0:\n",
        "  except \"No files in audio folder\""
      ],
      "metadata": {
        "id": "PG1RDRLd6r7b"
      },
      "execution_count": null,
      "outputs": []
    },
    {
      "cell_type": "markdown",
      "source": [
        "## Generating subtitles"
      ],
      "metadata": {
        "id": "vhSGuDrGkXPX"
      }
    },
    {
      "cell_type": "code",
      "source": [
        "# Done like this so linter stops complaining\n",
        "model = f\"{dd_model.value}\" + (\".en\" if cb_english.value else \"\")\n",
        "task = rb_task.value\n",
        "\n",
        "args = [\n",
        "  \"--verbose False\",\n",
        "  f\"--model {model}\",\n",
        "  f\"--task {task}\",\n",
        "  f\"--output_dir {subtitles_folder}\",\n",
        "  f\"{audio_folder}/*\"\n",
        "]\n",
        "\n",
        "args = \" \".join(args)\n",
        "!whisper {args}"
      ],
      "metadata": {
        "id": "8aCs7bDA6xsX"
      },
      "execution_count": null,
      "outputs": []
    },
    {
      "cell_type": "markdown",
      "source": [
        "## Downloading results"
      ],
      "metadata": {
        "id": "CfB4uU7jkyFj"
      }
    },
    {
      "cell_type": "code",
      "source": [
        "!rm -f {zipfile}\n",
        "!zip -r {zipfile} {subtitles_folder}"
      ],
      "metadata": {
        "id": "r2bAzJEzqRRr"
      },
      "execution_count": null,
      "outputs": []
    },
    {
      "cell_type": "code",
      "source": [
        "from google.colab import files\n",
        "files.download(zipfile)"
      ],
      "metadata": {
        "id": "etQ9Q4DRqHlD"
      },
      "execution_count": null,
      "outputs": []
    }
  ]
}